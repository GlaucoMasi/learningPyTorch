{
 "cells": [
  {
   "cell_type": "code",
   "execution_count": 22,
   "id": "d0564648",
   "metadata": {},
   "outputs": [
    {
     "data": {
      "text/plain": [
       "PosixPath('demos/gastrovision_mini/09_pretrained_effnetb2_20_percent.safetensors')"
      ]
     },
     "execution_count": 22,
     "metadata": {},
     "output_type": "execute_result"
    }
   ],
   "source": [
    "import shutil\n",
    "from pathlib import Path\n",
    "\n",
    "gastrovision_mini_demo_path = Path(\"demos/gastrovision_mini\")\n",
    "\n",
    "if gastrovision_mini_demo_path.exists():\n",
    "    shutil.rmtree(gastrovision_mini_demo_path)\n",
    "\n",
    "gastrovision_mini_demo_path.mkdir(parents=True, exist_ok=True)\n",
    "\n",
    "gastrovision_mini_examples_path = gastrovision_mini_demo_path / \"examples\"\n",
    "gastrovision_mini_examples_path.mkdir(parents=True, exist_ok=True)\n",
    "\n",
    "gastrovision_mini_examples = [\n",
    "    Path(\"/home/glauco/Desktop/projects/learningPyTorch/data/pizza_steak_sushi_20_percent/test/pizza/2782998.jpg\"),\n",
    "    Path(\"/home/glauco/Desktop/projects/learningPyTorch/data/pizza_steak_sushi_20_percent/test/steak/289822.jpg\"),\n",
    "    Path(\"/home/glauco/Desktop/projects/learningPyTorch/data/pizza_steak_sushi_20_percent/test/sushi/804460.jpg\")\n",
    "]\n",
    "\n",
    "for example in gastrovision_mini_examples:\n",
    "    destination = gastrovision_mini_examples_path / example.name\n",
    "    shutil.copy2(src=example, dst=destination)\n",
    "\n",
    "effnetb2_gastrovision_min_model_path = \"/home/glauco/Desktop/projects/learningPyTorch/trained_models/09_pretrained_effnetb2_20_percent.safetensors\"\n",
    "effnetb2_gastrovision_min_model_destionation = gastrovision_mini_demo_path / effnetb2_gastrovision_min_model_path.split(\"/\")[-1]\n",
    "shutil.copy2(src=effnetb2_gastrovision_min_model_path, dst=effnetb2_gastrovision_min_model_destionation)"
   ]
  },
  {
   "cell_type": "code",
   "execution_count": 23,
   "id": "f29f96e0",
   "metadata": {},
   "outputs": [
    {
     "name": "stdout",
     "output_type": "stream",
     "text": [
      "Writing demos/gastrovision_mini/model.py\n"
     ]
    }
   ],
   "source": [
    "%%writefile demos/gastrovision_mini/model.py\n",
    "import torchvision\n",
    "\n",
    "from torch import nn\n",
    "\n",
    "def create_effnet2_model(num_classes: int=3):\n",
    "    weights = torchvision.models.EfficientNet_B2_Weights.DEFAULT\n",
    "    transforms = weights.transforms()\n",
    "    model = torchvision.models.efficientnet_b2(weights=weights)\n",
    "\n",
    "    for param in model.parameters():\n",
    "        param.requires_grad = False\n",
    "\n",
    "    model.classifier = nn.Sequential(\n",
    "        nn.Dropout(p=0.3, inplace=True),\n",
    "        nn.Linear(in_features=1408, out_features=num_classes)\n",
    "    )\n",
    "\n",
    "    return model, transforms"
   ]
  },
  {
   "cell_type": "code",
   "execution_count": 24,
   "id": "11ec3210",
   "metadata": {},
   "outputs": [
    {
     "name": "stdout",
     "output_type": "stream",
     "text": [
      "Writing demos/gastrovision_mini/app.py\n"
     ]
    }
   ],
   "source": [
    "%%writefile demos/gastrovision_mini/app.py\n",
    "import os\n",
    "import torch\n",
    "import gradio as gr\n",
    "\n",
    "from typing import Tuple, Dict\n",
    "from model import create_effnet2_model\n",
    "from safetensors.torch import load_file\n",
    "from timeit import default_timer as timer\n",
    "\n",
    "class_names = [\"pizza\", \"steak\", \"sushi\"]\n",
    "\n",
    "effnetb2, effnetb2_transforms = create_effnet2_model(num_classes=3)\n",
    "sd = load_file(\"09_pretrained_effnetb2_20_percent.safetensors\")\n",
    "missing, unexpected = effnetb2.load_state_dict(sd, strict=True)\n",
    "\n",
    "\n",
    "\n",
    "def predict(img) -> Tuple[Dict, float]:\n",
    "    start_time = timer()\n",
    "\n",
    "    img = effnetb2_transforms(img).unsqueeze(dim=0)\n",
    "\n",
    "    effnetb2.eval()\n",
    "    with torch.inference_mode():\n",
    "        pred_probs = torch.softmax(effnetb2(img), dim=1)\n",
    "\n",
    "    # Gradio's required format: a dictionary with the probability for each class\n",
    "    pred_labels_and_probs = {class_names[i]: float(pred_probs[0][i]) for i in range(len(class_names))}\n",
    "    pred_time = round(timer()-start_time, 5)\n",
    "\n",
    "    return pred_labels_and_probs, pred_time\n",
    "\n",
    "\n",
    "\n",
    "title = \"🍕🥩🍣 Vision Model\"\n",
    "description = \"An EfficientNetB2 feature extractor computer vision model able to differentiate photos of pizza, steak and sushi\"\n",
    "article = \"Created by Glauco Masi\"\n",
    "\n",
    "example_list = [[\"examples/\"+example] for example in os.listdir(\"examples\")]\n",
    "\n",
    "demo = gr.Interface(\n",
    "    fn=predict,\n",
    "    inputs=gr.Image(type=\"pil\"),\n",
    "    outputs=[\n",
    "        gr.Label(num_top_classes=3, label=\"Predictions\"),\n",
    "        gr.Number(label=\"Prediction time (s)\")\n",
    "    ],\n",
    "    examples=example_list,\n",
    "    title=title,\n",
    "    description=description,\n",
    "    article=article\n",
    ")\n",
    "\n",
    "demo.launch()"
   ]
  },
  {
   "cell_type": "code",
   "execution_count": 25,
   "id": "7cd65737",
   "metadata": {},
   "outputs": [
    {
     "name": "stdout",
     "output_type": "stream",
     "text": [
      "2.8.0+cu128\n",
      "0.23.0+cu128\n",
      "5.44.1\n",
      "0.6.2\n"
     ]
    }
   ],
   "source": [
    "import torch\n",
    "import gradio\n",
    "import torchvision\n",
    "import safetensors\n",
    "print(torch.__version__)\n",
    "print(torchvision.__version__)\n",
    "print(gradio.__version__)\n",
    "print(safetensors.__version__)"
   ]
  },
  {
   "cell_type": "code",
   "execution_count": 28,
   "id": "6a909a89",
   "metadata": {},
   "outputs": [
    {
     "name": "stdout",
     "output_type": "stream",
     "text": [
      "Overwriting demos/gastrovision_mini/requirements.txt\n"
     ]
    }
   ],
   "source": [
    "%%writefile demos/gastrovision_mini/requirements.txt\n",
    "torch==2.8.0\n",
    "torchvision==0.23.0\n",
    "gradio==5.44.1\n",
    "safetensors==0.6.2"
   ]
  }
 ],
 "metadata": {
  "kernelspec": {
   "display_name": "venv",
   "language": "python",
   "name": "python3"
  },
  "language_info": {
   "codemirror_mode": {
    "name": "ipython",
    "version": 3
   },
   "file_extension": ".py",
   "mimetype": "text/x-python",
   "name": "python",
   "nbconvert_exporter": "python",
   "pygments_lexer": "ipython3",
   "version": "3.12.3"
  }
 },
 "nbformat": 4,
 "nbformat_minor": 5
}
