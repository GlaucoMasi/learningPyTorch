{
 "cells": [
  {
   "cell_type": "code",
   "execution_count": 1,
   "id": "93758985",
   "metadata": {},
   "outputs": [],
   "source": [
    "import sys\n",
    "import torch\n",
    "import torchvision\n",
    "import matplotlib.pyplot as plt\n",
    "\n",
    "from torch import nn\n",
    "from pathlib import Path\n",
    "from torchinfo import summary\n",
    "from torchvision import transforms\n",
    "\n",
    "from modules import data_setup, engine, utils\n",
    "\n",
    "device = torch.device(\"cuda\" if torch.cuda.is_available() else \"cpu\")\n",
    "\n",
    "venv_dir = Path(sys.prefix)\n",
    "project_root = venv_dir.parent\n",
    "data_path = project_root/\"data\""
   ]
  },
  {
   "cell_type": "code",
   "execution_count": 2,
   "id": "e2d61caf",
   "metadata": {},
   "outputs": [],
   "source": [
    "image_path = utils.download_data(\n",
    "    source=\"https://github.com/mrdbourke/pytorch-deep-learning/raw/main/data/pizza_steak_sushi.zip\",\n",
    "    destination=\"pizza_steak_sushi\"\n",
    ")\n",
    "\n",
    "weights = torchvision.models.EfficientNet_B0_Weights.DEFAULT\n",
    "\n",
    "train_dataloader, test_dataloader, class_names = data_setup.create_dataloaders(\n",
    "    image_path/\"train\",\n",
    "    image_path/\"test\",\n",
    "    weights.transforms(),\n",
    "    batch_size=32\n",
    ")"
   ]
  },
  {
   "cell_type": "code",
   "execution_count": 3,
   "id": "de7da780",
   "metadata": {},
   "outputs": [
    {
     "data": {
      "text/plain": [
       "================================================================================\n",
       "Layer (type:depth-idx)                                  Param #\n",
       "================================================================================\n",
       "EfficientNet                                            --\n",
       "├─Sequential: 1-1                                       --\n",
       "│    └─Conv2dNormActivation: 2-1                        --\n",
       "│    │    └─Conv2d: 3-1                                 (864)\n",
       "│    │    └─BatchNorm2d: 3-2                            (64)\n",
       "│    │    └─SiLU: 3-3                                   --\n",
       "│    └─Sequential: 2-2                                  --\n",
       "│    │    └─MBConv: 3-4                                 (1,448)\n",
       "│    └─Sequential: 2-3                                  --\n",
       "│    │    └─MBConv: 3-5                                 (6,004)\n",
       "│    │    └─MBConv: 3-6                                 (10,710)\n",
       "│    └─Sequential: 2-4                                  --\n",
       "│    │    └─MBConv: 3-7                                 (15,350)\n",
       "│    │    └─MBConv: 3-8                                 (31,290)\n",
       "│    └─Sequential: 2-5                                  --\n",
       "│    │    └─MBConv: 3-9                                 (37,130)\n",
       "│    │    └─MBConv: 3-10                                (102,900)\n",
       "│    │    └─MBConv: 3-11                                (102,900)\n",
       "│    └─Sequential: 2-6                                  --\n",
       "│    │    └─MBConv: 3-12                                (126,004)\n",
       "│    │    └─MBConv: 3-13                                (208,572)\n",
       "│    │    └─MBConv: 3-14                                (208,572)\n",
       "│    └─Sequential: 2-7                                  --\n",
       "│    │    └─MBConv: 3-15                                (262,492)\n",
       "│    │    └─MBConv: 3-16                                (587,952)\n",
       "│    │    └─MBConv: 3-17                                (587,952)\n",
       "│    │    └─MBConv: 3-18                                (587,952)\n",
       "│    └─Sequential: 2-8                                  --\n",
       "│    │    └─MBConv: 3-19                                (717,232)\n",
       "│    └─Conv2dNormActivation: 2-9                        --\n",
       "│    │    └─Conv2d: 3-20                                (409,600)\n",
       "│    │    └─BatchNorm2d: 3-21                           (2,560)\n",
       "│    │    └─SiLU: 3-22                                  --\n",
       "├─AdaptiveAvgPool2d: 1-2                                --\n",
       "├─Sequential: 1-3                                       --\n",
       "│    └─Dropout: 2-10                                    --\n",
       "│    └─Linear: 2-11                                     3,843\n",
       "================================================================================\n",
       "Total params: 4,011,391\n",
       "Trainable params: 3,843\n",
       "Non-trainable params: 4,007,548\n",
       "================================================================================"
      ]
     },
     "execution_count": 3,
     "metadata": {},
     "output_type": "execute_result"
    }
   ],
   "source": [
    "model = torchvision.models.efficientnet_b0(weights=weights).to(device)\n",
    "\n",
    "for param in model.features.parameters():\n",
    "    param.requires_grad = False\n",
    "\n",
    "model.classifier = nn.Sequential(\n",
    "    nn.Dropout(p=0.2, inplace=True),\n",
    "    nn.Linear(in_features=1280, out_features=len(class_names), bias=True).to(device)\n",
    ")\n",
    "summary(model)"
   ]
  },
  {
   "cell_type": "code",
   "execution_count": 5,
   "id": "04c071e0",
   "metadata": {},
   "outputs": [
    {
     "data": {
      "application/vnd.jupyter.widget-view+json": {
       "model_id": "755802213b4d4da5b73b3e12c6d54671",
       "version_major": 2,
       "version_minor": 0
      },
      "text/plain": [
       "  0%|          | 0/5 [00:00<?, ?it/s]"
      ]
     },
     "metadata": {},
     "output_type": "display_data"
    },
    {
     "name": "stdout",
     "output_type": "stream",
     "text": [
      "Epoch: 1 | train_loss: 0.8383 | train_acc: 0.7969 | test_loss: 0.6988 | test_acc: 0.8968\n",
      "Epoch: 2 | train_loss: 0.6831 | train_acc: 0.8516 | test_loss: 0.6696 | test_acc: 0.8551\n",
      "Epoch: 3 | train_loss: 0.6941 | train_acc: 0.7617 | test_loss: 0.6412 | test_acc: 0.8040\n",
      "Epoch: 4 | train_loss: 0.5864 | train_acc: 0.8008 | test_loss: 0.5810 | test_acc: 0.8258\n",
      "Epoch: 5 | train_loss: 0.5475 | train_acc: 0.8242 | test_loss: 0.5528 | test_acc: 0.8258\n"
     ]
    }
   ],
   "source": [
    "loss_fn = nn.CrossEntropyLoss()\n",
    "optimizer = torch.optim.Adam(model.parameters(), lr=0.001)\n",
    "\n",
    "writer = utils.create_writer(\n",
    "    experiment_name=\"data_10%\",\n",
    "    model_name=\"effnetb0\",\n",
    "    extra=\"5_epochs\"\n",
    ")\n",
    "\n",
    "results = engine.train(\n",
    "    model=model,\n",
    "    train_dataloader=train_dataloader,\n",
    "    test_dataloader=test_dataloader,\n",
    "    loss_fn=loss_fn,\n",
    "    optimizer=optimizer,\n",
    "    device=device,\n",
    "    epochs=5\n",
    ")"
   ]
  },
  {
   "cell_type": "code",
   "execution_count": null,
   "id": "65c384e2",
   "metadata": {},
   "outputs": [],
   "source": [
    "\n"
   ]
  }
 ],
 "metadata": {
  "kernelspec": {
   "display_name": "venv",
   "language": "python",
   "name": "python3"
  },
  "language_info": {
   "codemirror_mode": {
    "name": "ipython",
    "version": 3
   },
   "file_extension": ".py",
   "mimetype": "text/x-python",
   "name": "python",
   "nbconvert_exporter": "python",
   "pygments_lexer": "ipython3",
   "version": "3.12.3"
  }
 },
 "nbformat": 4,
 "nbformat_minor": 5
}
